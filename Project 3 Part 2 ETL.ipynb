{
 "cells": [
  {
   "cell_type": "markdown",
   "id": "9a68258d",
   "metadata": {},
   "source": [
    "# Import Libraries"
   ]
  },
  {
   "cell_type": "code",
   "execution_count": 1,
   "id": "b99a9b24",
   "metadata": {},
   "outputs": [],
   "source": [
    "import numpy as np\n",
    "import pandas as pd\n",
    "import matplotlib.pyplot as plt\n",
    "import seaborn as sns\n",
    "import os, json, math, time\n",
    "from tqdm.notebook import tqdm_notebook\n",
    "import tmdbsimple as tmdb "
   ]
  },
  {
   "cell_type": "markdown",
   "id": "b5432f34",
   "metadata": {},
   "source": [
    "# Load API"
   ]
  },
  {
   "cell_type": "code",
   "execution_count": 2,
   "id": "88cba591",
   "metadata": {},
   "outputs": [
    {
     "data": {
      "text/plain": [
       "dict_keys(['api-key'])"
      ]
     },
     "execution_count": 2,
     "metadata": {},
     "output_type": "execute_result"
    }
   ],
   "source": [
    "import json\n",
    "with open('/Users/Justice/.secret/tmdb_api.json', 'r') as f:\n",
    "    login = json.load(f)\n",
    "## Display the keys of the loaded dict\n",
    "login.keys()"
   ]
  },
  {
   "cell_type": "code",
   "execution_count": 3,
   "id": "edfeebd5",
   "metadata": {},
   "outputs": [],
   "source": [
    "import tmdbsimple as tmdb\n",
    "tmdb.API_KEY =  login['api-key']"
   ]
  },
  {
   "cell_type": "markdown",
   "id": "c073d67d",
   "metadata": {},
   "source": [
    "# Custom Functions"
   ]
  },
  {
   "cell_type": "markdown",
   "id": "1183e0b1",
   "metadata": {},
   "source": [
    "## Movie Rating Function"
   ]
  },
  {
   "cell_type": "code",
   "execution_count": 4,
   "id": "dd45dd34",
   "metadata": {},
   "outputs": [],
   "source": [
    "def get_movie_with_rating(movie_id):\n",
    "    # Get the movie object for the current id\n",
    "    movie = tmdb.Movies(movie_id)\n",
    "    # save the .info .releases dictionaries\n",
    "    movie_info = movie.info()\n",
    "    \n",
    "    releases = movie.releases()\n",
    "    # Loop through countries in releases\n",
    "    for c in releases['countries']:\n",
    "        # if the country abbreviation==US\n",
    "        if c['iso_3166_1' ] =='US':\n",
    "            ## save a \"certification\" key in the info dict with the certification\n",
    "            movie_info['certification'] = c['certification']\n",
    "    return movie_info"
   ]
  },
  {
   "cell_type": "markdown",
   "id": "c9f93961",
   "metadata": {},
   "source": [
    "## Results to JSON Function"
   ]
  },
  {
   "cell_type": "code",
   "execution_count": 5,
   "id": "7037fb2c",
   "metadata": {},
   "outputs": [],
   "source": [
    "def write_json(new_data, filename): \n",
    "    \"\"\"Adapted from: https://www.geeksforgeeks.org/append-to-json-file-using-python/\"\"\"    \n",
    "    \n",
    "    with open(filename,'r+') as file:\n",
    "        # First we load existing data into a dict.\n",
    "        file_data = json.load(file)\n",
    "        ## Choose extend or append\n",
    "        if (type(new_data) == list) & (type(file_data) == list):\n",
    "            file_data.extend(new_data)\n",
    "        else:\n",
    "             file_data.append(new_data)\n",
    "        # Sets file's current position at offset.\n",
    "        file.seek(0)\n",
    "        # convert back to json.\n",
    "        json.dump(file_data, file)"
   ]
  },
  {
   "cell_type": "markdown",
   "id": "fd60f175",
   "metadata": {},
   "source": [
    "# Test API"
   ]
  },
  {
   "cell_type": "code",
   "execution_count": 6,
   "id": "ce359572",
   "metadata": {},
   "outputs": [],
   "source": [
    "# Make a movie object using the .Movies function from tmdb\n",
    "# movie1 = tmdb.Movies('tt0848228')\n",
    "# movie2 = tmdb.Movies('tt0332280')"
   ]
  },
  {
   "cell_type": "code",
   "execution_count": 7,
   "id": "0eda5a94",
   "metadata": {},
   "outputs": [],
   "source": [
    "# info1 = movie1.info()\n",
    "# info1"
   ]
  },
  {
   "cell_type": "code",
   "execution_count": 8,
   "id": "018f1907",
   "metadata": {},
   "outputs": [],
   "source": [
    "# info2 = movie2.info()\n",
    "# info2"
   ]
  },
  {
   "cell_type": "code",
   "execution_count": 9,
   "id": "5b7b21bd",
   "metadata": {},
   "outputs": [],
   "source": [
    "# print(info1['budget'])\n",
    "# print(info2['budget'])"
   ]
  },
  {
   "cell_type": "code",
   "execution_count": 10,
   "id": "4799c0d5",
   "metadata": {},
   "outputs": [],
   "source": [
    "# print(info1['revenue'])\n",
    "# print(info2['revenue'])"
   ]
  },
  {
   "cell_type": "code",
   "execution_count": 11,
   "id": "9cc01ed0",
   "metadata": {},
   "outputs": [],
   "source": [
    "# print(info1['imdb_id'])\n",
    "# print(info2['imdb_id'])"
   ]
  },
  {
   "cell_type": "code",
   "execution_count": 12,
   "id": "55e00ee5",
   "metadata": {},
   "outputs": [],
   "source": [
    "# movie1 = tmdb.Movies('tt0848228')\n",
    "# info = movie1.info()\n",
    "# print(info['budget'])\n",
    "\n",
    "# movie2 = tmdb.Movies('tt0332280')\n",
    "# info = movie2.info()\n",
    "# print(info['budget'])"
   ]
  },
  {
   "cell_type": "code",
   "execution_count": 13,
   "id": "fb16691d",
   "metadata": {},
   "outputs": [],
   "source": [
    "# releases = movie1.releases()\n",
    "# for c in releases['countries']:\n",
    "#     if c['iso_3166_1'] == 'US':\n",
    "#         print(c['certification'])\n",
    "        \n",
    "        \n",
    "# releases = movie2.releases()\n",
    "# for c in releases['countries']:\n",
    "#     if c['iso_3166_1'] == 'US':\n",
    "#         print(c['certification'])        "
   ]
  },
  {
   "cell_type": "markdown",
   "id": "7c5f60ba",
   "metadata": {},
   "source": [
    "# Steps before API Call"
   ]
  },
  {
   "cell_type": "markdown",
   "id": "a9103ce8",
   "metadata": {},
   "source": [
    "## Data Folder"
   ]
  },
  {
   "cell_type": "code",
   "execution_count": 14,
   "id": "2f200d22",
   "metadata": {},
   "outputs": [
    {
     "data": {
      "text/plain": [
       "['.ipynb_checkpoints',\n",
       " 'title.akas.csv.gz',\n",
       " 'title_basics.csv.gz',\n",
       " 'title_ratings.csv.gz']"
      ]
     },
     "execution_count": 14,
     "metadata": {},
     "output_type": "execute_result"
    }
   ],
   "source": [
    "FOLDER = \"Data/\"\n",
    "os.makedirs(FOLDER, exist_ok=True)\n",
    "os.listdir(FOLDER)"
   ]
  },
  {
   "cell_type": "markdown",
   "id": "76d1a079",
   "metadata": {},
   "source": [
    "## Focused API Years"
   ]
  },
  {
   "cell_type": "code",
   "execution_count": 15,
   "id": "50361b91",
   "metadata": {},
   "outputs": [],
   "source": [
    "YEARS_TO_GET = [2000,2001]"
   ]
  },
  {
   "cell_type": "markdown",
   "id": "6b9c5690",
   "metadata": {},
   "source": [
    "# API Call"
   ]
  },
  {
   "cell_type": "code",
   "execution_count": 16,
   "id": "2b368f80",
   "metadata": {},
   "outputs": [],
   "source": [
    "# Load in the dataframe from project part 1 as basics:\n",
    "basics = pd.read_csv('Data/title_basics.csv.gz')"
   ]
  },
  {
   "cell_type": "code",
   "execution_count": 17,
   "id": "3d87028d",
   "metadata": {},
   "outputs": [],
   "source": [
    "# Define errors list\n",
    "errors = [ ]"
   ]
  },
  {
   "cell_type": "code",
   "execution_count": 18,
   "id": "ba6cd6a2",
   "metadata": {},
   "outputs": [
    {
     "data": {
      "application/vnd.jupyter.widget-view+json": {
       "model_id": "66fe25770ffc482e8e46758ade389d81",
       "version_major": 2,
       "version_minor": 0
      },
      "text/plain": [
       "YEARS:   0%|          | 0/2 [00:00<?, ?it/s]"
      ]
     },
     "metadata": {},
     "output_type": "display_data"
    },
    {
     "data": {
      "application/vnd.jupyter.widget-view+json": {
       "model_id": "6997571607c54c8989df63e8742a31c5",
       "version_major": 2,
       "version_minor": 0
      },
      "text/plain": [
       "Movies from 2000:   0%|          | 0/1461 [00:00<?, ?it/s]"
      ]
     },
     "metadata": {},
     "output_type": "display_data"
    },
    {
     "data": {
      "application/vnd.jupyter.widget-view+json": {
       "model_id": "ca1a549f381042c2978203c390a81d00",
       "version_major": 2,
       "version_minor": 0
      },
      "text/plain": [
       "Movies from 2001:   0%|          | 0/1579 [00:00<?, ?it/s]"
      ]
     },
     "metadata": {},
     "output_type": "display_data"
    }
   ],
   "source": [
    "# Start of OUTER loop\n",
    "for YEAR in tqdm_notebook(YEARS_TO_GET,desc='YEARS',\n",
    "                          position=0):\n",
    "    #Defining the JSON file to store results for year\n",
    "    JSON_FILE = f'{FOLDER}tmdb_api_results_{YEAR}.json'\n",
    "\n",
    "    # Check if file exists\n",
    "    file_exists = os.path.isfile(JSON_FILE)\n",
    "\n",
    "\n",
    "    # If it does not exist: create it\n",
    "    if file_exists == False:\n",
    "    # save an empty dict with just \"imdb_id\" to the new json file.\n",
    "        with open(JSON_FILE,'w') as f:\n",
    "            json.dump([{'imdb_id':0}],f)\n",
    "\n",
    "\n",
    "\n",
    "    #Saving new year as the current df\n",
    "    df = basics.loc[ basics['startYear']==YEAR].copy()\n",
    "    # saving movie ids to list\n",
    "    movie_ids = df['tconst'].copy()#.to_list()\n",
    "\n",
    "\n",
    "    # Load existing data from json into a dataframe called \"previous_df\"\n",
    "    previous_df = pd.read_json(JSON_FILE)\n",
    "\n",
    "\n",
    "    # filter out any ids that are already in the JSON_FILE\n",
    "    movie_ids_to_get = movie_ids[~movie_ids.isin(previous_df['imdb_id'])]\n",
    "\n",
    "\n",
    "    #Get index and movie id from list\n",
    "    # INNER Loop\n",
    "    for movie_id in tqdm_notebook(movie_ids_to_get,\n",
    "                                  desc=f'Movies from {YEAR}',\n",
    "                                  position=1,\n",
    "                                  leave=True):\n",
    "        # Attempt to retrieve then data for the movie id\n",
    "        try:\n",
    "            temp = get_movie_with_rating(movie_id)  #This uses your pre-made function\n",
    "            # Append/extend results to existing file using a pre-made function\n",
    "            write_json(temp,JSON_FILE)\n",
    "            # Short 20 ms sleep to prevent overwhelming server\n",
    "            time.sleep(0.02)\n",
    "\n",
    "        # If it fails,  make a dict with just the id and None for certification.\n",
    "        except Exception as e:\n",
    "            errors.append([movie_id, e])\n",
    "\n",
    "\n",
    "    final_year_df = pd.read_json(JSON_FILE)\n",
    "    final_year_df.to_csv(f\"{FOLDER}final_tmdb_data_{YEAR}.csv.gz\", compression=\"gzip\", index=False)"
   ]
  },
  {
   "cell_type": "code",
   "execution_count": null,
   "id": "fc80f4d1",
   "metadata": {},
   "outputs": [],
   "source": []
  }
 ],
 "metadata": {
  "kernelspec": {
   "display_name": "Python (dojo-env)",
   "language": "python",
   "name": "dojo-env"
  },
  "language_info": {
   "codemirror_mode": {
    "name": "ipython",
    "version": 3
   },
   "file_extension": ".py",
   "mimetype": "text/x-python",
   "name": "python",
   "nbconvert_exporter": "python",
   "pygments_lexer": "ipython3",
   "version": "3.9.15"
  },
  "toc": {
   "base_numbering": 1,
   "nav_menu": {},
   "number_sections": false,
   "sideBar": true,
   "skip_h1_title": false,
   "title_cell": "Table of Contents",
   "title_sidebar": "Contents",
   "toc_cell": false,
   "toc_position": {},
   "toc_section_display": true,
   "toc_window_display": false
  }
 },
 "nbformat": 4,
 "nbformat_minor": 5
}
